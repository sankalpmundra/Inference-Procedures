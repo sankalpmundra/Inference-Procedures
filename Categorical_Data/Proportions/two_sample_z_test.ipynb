{
 "cells": [
  {
   "cell_type": "markdown",
   "metadata": {},
   "source": [
    "# Conducting a Two-Sample _z_ Test for Proportions"
   ]
  },
  {
   "cell_type": "markdown",
   "metadata": {},
   "source": [
    "## Question"
   ]
  },
  {
   "cell_type": "markdown",
   "metadata": {},
   "source": [
    "Researchers suspect that _myopia_, or nearsightedness, is becoming more common over time. A study from the year 2000 showed 132 cases of this condition in 400 randomly selected people. A separate study from 2015 showed 228 cases in 600 randomly selected people. Based on these samples, is there support for the researchers' belief that _myopia_ is becoming more common amongst people? Provide statistical evidence to support your answer, using a significance level of 5% in your significance test."
   ]
  },
  {
   "cell_type": "markdown",
   "metadata": {},
   "source": [
    "## Answer"
   ]
  },
  {
   "cell_type": "markdown",
   "metadata": {},
   "source": [
    "We want to perform a significance test, at the $α = 0.05$ significance level, of:\n",
    "\n",
    "$$ H_o: p_{2015} - p_{2000} = 0 $$\n",
    "$$ H_a: p_{2015} - p_{2000} > 0 $$\n",
    "\n",
    "$p_{2000}:$ _true proportion of myopia cases in 2000_\n",
    "\n",
    "$p_{2015}:$ _true proportion of myopia cases in 2015_"
   ]
  },
  {
   "cell_type": "markdown",
   "metadata": {},
   "source": [
    "#### Conditions for inference on proportions:"
   ]
  },
  {
   "cell_type": "markdown",
   "metadata": {},
   "source": [
    "1. **Random**: As stated in the problem, the samples from 2000 and 2015 were randomly selected.\n",
    "2. **Normal**: Assuming the null hypothesis is true, the expected number of successes and failures from each sample are greater than 10.\n",
    "\n",
    "$$\n",
    "\\begin{aligned}\n",
    "& n_1 \\hat{p}_1 \\geq 10 && \\quad & n_1 (1 - \\hat{p}_1) \\geq 10 \\\\\n",
    "\\end{aligned}\n",
    "$$\n",
    "\n",
    "$$\n",
    "\\begin{aligned}\n",
    "& n_2 \\hat{p}_2 \\geq 10 && \\quad & n_2 (1 - \\hat{p}_2) \\geq 10 \\\\\n",
    "\\end{aligned}\n",
    "$$\n",
    "\n",
    "3. **Independence**: When sampling without replacement, both sample sizes should be smaller than **10%** of their respective populations. In this case, we will assume independence because there were obviously more than 400 and 600 people in the world in the years 200 and 2015 respectively.\n",
    "\n",
    "$$ n_1 ≤ 0.1(N_1) $$\n",
    "$$ n_2 ≤ 0.1(N_2) $$"
   ]
  },
  {
   "cell_type": "markdown",
   "metadata": {},
   "source": [
    "Since all the conditions for inference have been met, we will proceed to conduct a two-sample _z_ test. We will begin by extracting and noting down all the data from the question and calculating the sample statistics."
   ]
  },
  {
   "cell_type": "code",
   "execution_count": 1,
   "metadata": {},
   "outputs": [],
   "source": [
    "import numpy as np\n",
    "from scipy.stats import norm"
   ]
  },
  {
   "cell_type": "code",
   "execution_count": 2,
   "metadata": {},
   "outputs": [],
   "source": [
    "# Significance level for the test\n",
    "alpha = 0.05\n",
    "\n",
    "# Known Data\n",
    "\n",
    "n_2000 = 400\n",
    "successes_2000 = 132\n",
    "failures_2000 = n_2000 - successes_2000\n",
    "\n",
    "n_2015 = 600\n",
    "successes_2015 = 228\n",
    "failures_2015 = n_2015 - successes_2015\n",
    "\n",
    "# Calculations\n",
    "\n",
    "p_hat_2000 = successes_2000 / n_2000\n",
    "p_hat_2015 = successes_2015 / n_2015\n",
    "p_combined = (successes_2000 + successes_2015) / (n_2000 + n_2015)\n",
    "\n",
    "parameter = 0\n",
    "statistic = (p_hat_2015 - p_hat_2000)\n",
    "std_dev = np.sqrt(p_combined * (1 - p_combined) * ((1 / 600) + (1 / 400)))"
   ]
  },
  {
   "cell_type": "markdown",
   "metadata": {},
   "source": [
    "Now, we can calculate the standardized test statistic 'z':"
   ]
  },
  {
   "cell_type": "code",
   "execution_count": 3,
   "metadata": {},
   "outputs": [],
   "source": [
    "# Standardized Test Statistic (z statistic)\n",
    "z = (statistic - parameter) / std_dev"
   ]
  },
  {
   "cell_type": "markdown",
   "metadata": {},
   "source": [
    "Once we know the z-statistic, we can compute the 'P-value':"
   ]
  },
  {
   "cell_type": "code",
   "execution_count": 4,
   "metadata": {},
   "outputs": [],
   "source": [
    "# P-Value (one-tailed)\n",
    "p_value = norm.sf(abs(z))"
   ]
  },
  {
   "cell_type": "markdown",
   "metadata": {},
   "source": [
    "Finally, we can compare the 'P-value' with our significance level and conclude the significance test:"
   ]
  },
  {
   "cell_type": "code",
   "execution_count": 5,
   "metadata": {},
   "outputs": [
    {
     "name": "stdout",
     "output_type": "stream",
     "text": [
      "Since the P-value is not smaller than the significance level (0.05329158478744383 >= 0.05), we fail to reject the null hypothesis because there is no significant evidence to suggest that myopia is becoming more common amongst people.\n"
     ]
    }
   ],
   "source": [
    "# Function to conclude the one-sample z test\n",
    "def conclude_ztest2(p_val, significance_level):\n",
    "    \"\"\"\n",
    "    Checks if the P-value indicates a significant difference based on the given significance level.\n",
    "\n",
    "    Args:\n",
    "        p_val (float): The p-value calculated from the significance test.\n",
    "        significance_level (float): The significance level for the same significance test.\n",
    "\n",
    "    Returns:\n",
    "        A message indicating if there is statistical evidence to reject the test's null hypothesis.\n",
    "    \"\"\"\n",
    "    if p_val < significance_level:\n",
    "        print(\"\".join([\"Since the P-value is smaller than the significance level (\", \n",
    "                       str(p_val), \" < \", str(significance_level), \"), \", \n",
    "                       \"we reject the null hypothesis because there is significant evidence to suggest that \", \n",
    "                       \"myopia is becoming more common amongst people.\"]))\n",
    "    else:\n",
    "        print(\"\".join([\"Since the P-value is not smaller than the significance level (\", \n",
    "                       str(p_val), \" >= \", str(significance_level), \"), \", \n",
    "                       \"we fail to reject the null hypothesis because there is no significant evidence to suggest that \", \n",
    "                       \"myopia is becoming more common amongst people.\"]))\n",
    "\n",
    "# Conclusion\n",
    "conclude_ztest2(p_value, alpha)"
   ]
  },
  {
   "cell_type": "markdown",
   "metadata": {},
   "source": [
    "### Conclusion"
   ]
  },
  {
   "cell_type": "markdown",
   "metadata": {},
   "source": [
    "Since the P-value was greater than the significance level of $α = 0.05$, we fail to reject the null hypothesis because there is no significant evidence to conclude that myopia is becoming more common amongst people."
   ]
  },
  {
   "cell_type": "markdown",
   "metadata": {},
   "source": [
    "---"
   ]
  }
 ],
 "metadata": {
  "kernelspec": {
   "display_name": "Python 3",
   "language": "python",
   "name": "python3"
  },
  "language_info": {
   "codemirror_mode": {
    "name": "ipython",
    "version": 3
   },
   "file_extension": ".py",
   "mimetype": "text/x-python",
   "name": "python",
   "nbconvert_exporter": "python",
   "pygments_lexer": "ipython3",
   "version": "3.12.4"
  }
 },
 "nbformat": 4,
 "nbformat_minor": 2
}
