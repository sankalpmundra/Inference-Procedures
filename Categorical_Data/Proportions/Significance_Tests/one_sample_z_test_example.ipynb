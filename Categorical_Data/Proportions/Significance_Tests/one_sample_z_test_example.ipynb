{
 "cells": [
  {
   "cell_type": "markdown",
   "metadata": {},
   "source": [
    "# One-Sample _z_ Test for a Proportion (Example)"
   ]
  },
  {
   "cell_type": "markdown",
   "metadata": {},
   "source": [
    "## Question"
   ]
  },
  {
   "cell_type": "markdown",
   "metadata": {},
   "source": [
    "Some boxes of a certain brand of breakfast cereal include a voucher for a free video rental inside the box. The company that makes the cereal claims that a voucher can be found in 20 percent of the boxes. However based, on their experiences eating this cereal at home, a group of students believe that the true proportion of boxes with vouchers is less than 20%. This group of students purchased 65 boxes of the cereal to investigate the company's claim. The students found a total of 11 vouchers for free video rentals in the 65 purchased boxes.\n",
    "\n",
    "Suppose it is reasonable to assume that the 65 boxes purchased by the students are a random sample of all the boxes of this cereal. Based on this sample, is there support for the students' belief that the proportion of boxes with vouchers is truly less than 20%? Provide statistical evidence to support your answer, using a significance level of 5% in your significance test."
   ]
  },
  {
   "cell_type": "markdown",
   "metadata": {},
   "source": [
    "## Answer"
   ]
  },
  {
   "cell_type": "markdown",
   "metadata": {},
   "source": [
    "We want to perform a significance test, at the $α = 0.05$ significance level, of:\n",
    "\n",
    "$$ H_o: p = 0.2 $$\n",
    "$$ H_a: p < 0.2 $$\n",
    "\n",
    "_where_ $p$ _represents the true proportion of cereal boxes from the population that have a voucher for a free video rental_"
   ]
  },
  {
   "cell_type": "markdown",
   "metadata": {},
   "source": [
    "Before proceeding with the test, we will evaluate the conditions for inference on proportions:\n",
    "\n",
    "1. **Random**: As stated in the problem, we are assuming that the 65 cereal boxes bought by the students are a random sample of all boxes.\n",
    "2. **Normal**: The sampling distribution of the sample proportion $\\hat{p}$ can be treated as approximately normal because, assuming the null hypothesis is true, the expected number of successes and failures from the sample each are greater than 10.\n",
    "\n",
    "$$ np_0 \\geq 10 \\Longrightarrow 65(0.2) = 13 \\geq 10 $$\n",
    "\n",
    "$$ n(1 - p_0) \\geq 10 \\Longrightarrow 65(1 - 0.2) = 52 \\geq 10 $$\n",
    "\n",
    "3. **Independence**: Since the students are sampling cereal boxes without replacement, the sample size should be smaller than 10% of the population. In this case, we will assume independence because there are likely more than 650 cereal boxes made by the company.\n",
    "\n",
    "$$ n \\leq 0.1(N) $$\n",
    "\n",
    "$$ N > 650 \\longrightarrow 65 \\leq 0.1(N) $$\n",
    "\n",
    "Since all the conditions for inference have been met, we will proceed to conduct a one-sample _z_ test. We will begin by extracting and noting down all the data we can get from the problem description."
   ]
  },
  {
   "cell_type": "markdown",
   "metadata": {},
   "source": [
    "$$ n = 65 $$\n",
    "\n",
    "$$ \\text{successes} = 11 $$\n",
    "\n",
    "$$ \\text{failures} = 65 - 11 = 54 $$"
   ]
  },
  {
   "cell_type": "markdown",
   "metadata": {},
   "source": [
    "Once we have our raw data, we can calculate the sample proportion statistic and derive the processed data."
   ]
  },
  {
   "cell_type": "markdown",
   "metadata": {},
   "source": [
    "$$ p_0 = 0.2 $$\n",
    "\n",
    "$$ \\hat{p} = \\frac{\\text{successes}}{n} = \\frac{11}{65} \\approx 0.169 $$\n",
    "\n",
    "$$ s_{\\hat{p}} = \\sqrt{\\frac{p_0(1 - p_0)}{n}} = \\sqrt{\\frac{0.2(1 - 0.2)}{65}} \\approx 0.050 $$"
   ]
  },
  {
   "cell_type": "markdown",
   "metadata": {},
   "source": [
    "We can now calculate the standardized test statistic $(z)$ to determine how many standard errors the sample proportion statistic is away from the hypothesized population parameter. "
   ]
  },
  {
   "cell_type": "markdown",
   "metadata": {},
   "source": [
    "$$ z = \\frac{\\hat{p} - p_0}{s_{\\hat{p}}} = \\frac{0.169 - 0.2}{\\sqrt{\\frac{0.2(1 - 0.2)}{65}}} =  -0.624824975493137598 \\approx -0.625 $$"
   ]
  },
  {
   "cell_type": "markdown",
   "metadata": {},
   "source": [
    "Finally, we can compute the $\\text{P-Value}$ for our test to determine the probability of obtaining a value as extreme as the calculated standardized test statistic—assuming the hypothesized population proportion parameter is indeed 0.2. Since the alternative hypothesis claims that the true proportion of cereal boxes with vouchers is lesser than 20%, our test will require a left-tailed (one-sided) value:"
   ]
  },
  {
   "cell_type": "markdown",
   "metadata": {},
   "source": [
    "$$ \\text{P-Value} = P(z \\leq -0.625 \\, | \\, H_0 \\text{ is true}) \\approx 0.266 $$"
   ]
  },
  {
   "cell_type": "markdown",
   "metadata": {},
   "source": [
    "Since the P-Value is greater than the significance level of this test $(0.266 \\geq 0.05)$, we fail to reject the null hypothesis because we did not find statistically significant evidence to conclude that the true proportion of cereal boxes that contain a voucher for a free video rental is lesser than 20%."
   ]
  },
  {
   "cell_type": "markdown",
   "metadata": {},
   "source": [
    "---"
   ]
  },
  {
   "cell_type": "markdown",
   "metadata": {},
   "source": [
    "We can also perform the same One-Sample _z_ Test using the `statsmodels` library in Python:"
   ]
  },
  {
   "cell_type": "code",
   "execution_count": 17,
   "metadata": {},
   "outputs": [],
   "source": [
    "from statsmodels.stats.proportion import proportions_ztest"
   ]
  },
  {
   "cell_type": "code",
   "execution_count": 18,
   "metadata": {},
   "outputs": [
    {
     "name": "stdout",
     "output_type": "stream",
     "text": [
      "Total Observations = 65\n",
      "Successful Observations = 11\n",
      "Failed Observations = 54\n"
     ]
    }
   ],
   "source": [
    "### Extracting Raw Data:\n",
    "\n",
    "# Sample Size (Number of Observations)\n",
    "n = 65\n",
    "\n",
    "# Breakdown of Observations\n",
    "successes = 11\n",
    "failures = n - successes\n",
    "\n",
    "print(f\"Total Observations = {n}\")\n",
    "print(f\"Successful Observations = {successes}\")\n",
    "print(f\"Failed Observations = {failures}\")"
   ]
  },
  {
   "cell_type": "code",
   "execution_count": 20,
   "metadata": {},
   "outputs": [
    {
     "name": "stdout",
     "output_type": "stream",
     "text": [
      "Hypothesized Population Proportion = 0.2\n",
      "Calculated Sample Proportion ≈ 0.169\n"
     ]
    }
   ],
   "source": [
    "### Deriving Processed Data:\n",
    "\n",
    "# Population Proportion (Hypothesized Parameter)\n",
    "p = 0.2\n",
    "\n",
    "# Sample Proportion (Experimental Statistic)\n",
    "p_hat = successes / n\n",
    "\n",
    "print(f\"Hypothesized Population Proportion = {p}\")\n",
    "print(f\"Calculated Sample Proportion ≈ {round(p_hat, 3)}\")"
   ]
  },
  {
   "cell_type": "code",
   "execution_count": 25,
   "metadata": {},
   "outputs": [
    {
     "name": "stdout",
     "output_type": "stream",
     "text": [
      "Z-Statistic ≈ -0.662\n",
      "P-Value ≈ 0.254\n"
     ]
    }
   ],
   "source": [
    "### Calculating the Standardized Test Statistic (z) and P-Value:\n",
    "\n",
    "z_stat, p_value = proportions_ztest(count=successes, nobs=n, value=p, alternative='smaller', prop_var=False)\n",
    "\n",
    "print(f\"Z-Statistic ≈ {round(z_stat, 3)}\")\n",
    "print(f\"P-Value ≈ {round(p_value, 3)}\")"
   ]
  },
  {
   "cell_type": "markdown",
   "metadata": {},
   "source": [
    "Concluding:"
   ]
  },
  {
   "cell_type": "code",
   "execution_count": 5,
   "metadata": {},
   "outputs": [],
   "source": [
    "import numpy as np\n",
    "from scipy.stats import norm"
   ]
  },
  {
   "cell_type": "code",
   "execution_count": 7,
   "metadata": {},
   "outputs": [],
   "source": [
    "# Significance level for the test\n",
    "alpha = 0.05\n",
    "\n",
    "# Known Data\n",
    "n = 65\n",
    "successes = 11\n",
    "failures = 54\n",
    "\n",
    "# Calculations\n",
    "\n",
    "p_parameter = 0.2\n",
    "p_statistic = successes / n\n",
    "\n",
    "std_dev = np.sqrt((p_parameter * (1 - p_parameter)) / n)"
   ]
  },
  {
   "cell_type": "markdown",
   "metadata": {},
   "source": [
    "Now, we can calculate the standardized test statistic 'z':"
   ]
  },
  {
   "cell_type": "code",
   "execution_count": 8,
   "metadata": {},
   "outputs": [],
   "source": [
    "# Standardized Test Statistic (z statistic)\n",
    "z = (p_statistic - p_parameter) / std_dev"
   ]
  },
  {
   "cell_type": "markdown",
   "metadata": {},
   "source": [
    "Once we know the z-statistic, we can compute the 'P-value':"
   ]
  },
  {
   "cell_type": "code",
   "execution_count": 9,
   "metadata": {},
   "outputs": [],
   "source": [
    "# Calculate the P-Value (one-tailed)\n",
    "p_value = norm.sf(abs(z))"
   ]
  },
  {
   "cell_type": "markdown",
   "metadata": {},
   "source": [
    "Finally, we can compare the 'P-value' with our significance level and conclude the significance test:"
   ]
  },
  {
   "cell_type": "code",
   "execution_count": 10,
   "metadata": {},
   "outputs": [
    {
     "name": "stdout",
     "output_type": "stream",
     "text": [
      "Since the P-value is not smaller than the significance level (0.2675717261988753 >= 0.05), we fail to reject the null hypothesis because there is no significant evidence to suggest that the true proportion of cereal boxes that contain the voucher is fewer than 20%.\n"
     ]
    }
   ],
   "source": [
    "# Function to conclude the one-sample z test\n",
    "def conclude_ztest1(p_val, significance_level):\n",
    "    \"\"\"\n",
    "    Checks if the P-value indicates a significant difference based on the given significance level.\n",
    "\n",
    "    Args:\n",
    "        p_val (float): The p-value calculated from the significance test.\n",
    "        significance_level (float): The significance level for the same significance test.\n",
    "\n",
    "    Returns:\n",
    "        A message indicating if there is statistical evidence to reject the test's null hypothesis.\n",
    "    \"\"\"\n",
    "    if p_val < significance_level:\n",
    "        print(\"\".join([\"Since the P-value is smaller than the significance level (\", \n",
    "                       str(p_val), \" < \", str(significance_level), \"), \", \n",
    "                       \"we reject the null hypothesis because there is significant evidence to suggest that \", \n",
    "                       \"the true proportion of cereal boxes that contain the voucher is fewer than 20%.\"]))\n",
    "    else:\n",
    "        print(\"\".join([\"Since the P-value is not smaller than the significance level (\", \n",
    "                       str(p_val), \" >= \", str(significance_level), \"), \", \n",
    "                       \"we fail to reject the null hypothesis because there is no significant evidence to suggest that \", \n",
    "                       \"the true proportion of cereal boxes that contain the voucher is fewer than 20%.\"]))\n",
    "\n",
    "# Conclusion\n",
    "conclude_ztest1(p_value, alpha)"
   ]
  },
  {
   "cell_type": "markdown",
   "metadata": {},
   "source": [
    "### Conclusion\n",
    "\n",
    "Since the P-value was greater than the significance level of $α = 0.05$, we fail to reject the null hypothesis because there is no significant evidence to conclude that the true proportion of cereal boxes that contain the voucher is fewer than 20%.\n",
    "\n",
    "---"
   ]
  }
 ],
 "metadata": {
  "kernelspec": {
   "display_name": "Python 3",
   "language": "python",
   "name": "python3"
  },
  "language_info": {
   "codemirror_mode": {
    "name": "ipython",
    "version": 3
   },
   "file_extension": ".py",
   "mimetype": "text/x-python",
   "name": "python",
   "nbconvert_exporter": "python",
   "pygments_lexer": "ipython3",
   "version": "3.12.4"
  }
 },
 "nbformat": 4,
 "nbformat_minor": 2
}
