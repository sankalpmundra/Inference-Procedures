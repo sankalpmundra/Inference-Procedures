{
 "cells": [
  {
   "cell_type": "markdown",
   "metadata": {},
   "source": [
    "# Conducting a One-Sample _t_ Test for Means\n",
    "\n",
    "## Question\n",
    "\n",
    "Sankalp is a Physics teacher at Northeastern University and his 350 students just gave the 3rd year Physics exam. Last year, the same students obtained a mean score of 75%. Sankalp then made some changes to his teaching style and wants to determine whether his students have improved.\n",
    "\n",
    "He takes a simple random sample (SRS) of 31 students from all the students who gave the exam and notes down their exam scores."
   ]
  },
  {
   "cell_type": "code",
   "execution_count": 10,
   "metadata": {},
   "outputs": [],
   "source": [
    "exam_scores = [82, 79, 83, 87, 78, 78, 80, 83, 79, 82, 77, 77, 81, 65, 71, 74, 74, 81, 75, 72, 87, 78, 80, 72, 67, 80, 74, 90, 76, 59, 76]"
   ]
  },
  {
   "cell_type": "markdown",
   "metadata": {},
   "source": [
    "Conduct the appropriate significance test at the $α = 0.05$ significance level to conclude Sankalp's hypothesis."
   ]
  },
  {
   "cell_type": "code",
   "execution_count": 11,
   "metadata": {},
   "outputs": [],
   "source": [
    "import numpy as np\n",
    "from scipy.stats import t"
   ]
  },
  {
   "cell_type": "markdown",
   "metadata": {},
   "source": [
    "## Answer\n",
    "\n",
    "We want to perform a significance test, at the $α = 0.05$ significance level, of:\n",
    "\n",
    "$$ H_o: µ = 75 $$\n",
    "$$ H_a: µ > 75 $$\n",
    "\n",
    "_where $µ$ represents the average score of the students on the Physics exam_\n",
    "\n",
    "#### Conditions for inference on means:\n",
    "\n",
    "1. **Random**: As stated in the question, Sankalp took a random sample of exam scores from all the students who gave the Physics exam.\n",
    "2. **Normal**: The sampling distribution of the sample mean (x̄) needs to be approximately normal. Since the sample size was larger than 30, we can assume that the distribution is approximately normal.\n",
    "\n",
    "$$ n >= 30 $$\n",
    "$$ 31 >= 30 $$\n",
    "\n",
    "3. **Independence**: When sampling without replacement, the sample size should be smaller than **10%** of the population. In this case, we can assume independence because the sample is indeed smaller than 10% of all Physics students giving the exam\n",
    "\n",
    "$$ n <= 0.1(N) $$\n",
    "$$ 31 <= 0.1(350) $$\n",
    "$$ 31 <= 35 $$\n",
    "\n",
    "Since all the conditions for inference have been met, we will proceed to conduct a one-sample _t_ test. We will begin by extracting and noting down all the data from the question and calculating the sample statistics."
   ]
  },
  {
   "cell_type": "code",
   "execution_count": 12,
   "metadata": {},
   "outputs": [],
   "source": [
    "# Significance level for the test\n",
    "alpha = 0.05\n",
    "\n",
    "# Population mean parameter (µ)\n",
    "population_mean = 75\n",
    "\n",
    "# Sample data (exam scores of a class)\n",
    "sample_scores = [82, 79, 83, 87, 78, 78, 80, 83, 79, 82, 77, 77, 81, 65, 71, 74, 74, 81, 75, 72, 87, 78, 80, 72, 67, 80, 74, 90, 76, 59, 76]\n",
    "\n",
    "# Calculate the mean and standard deviation of the sample\n",
    "sample_mean = np.mean(sample_scores)\n",
    "sample_std = np.std(sample_scores, ddof=1)  # Using ddof=1 for sample standard deviation\n",
    "\n",
    "# Calculate the standard error of the sample mean\n",
    "sample_size = len(sample_scores)\n",
    "standard_error = sample_std / np.sqrt(sample_size)"
   ]
  },
  {
   "cell_type": "markdown",
   "metadata": {},
   "source": [
    "Now, we can calculate the standardized test statistic 't':"
   ]
  },
  {
   "cell_type": "code",
   "execution_count": 13,
   "metadata": {},
   "outputs": [],
   "source": [
    "# Calculate the t-statistic\n",
    "t_statistic = (sample_mean - population_mean) / standard_error\n",
    "\n",
    "# Calculate the degrees of freedom\n",
    "df = sample_size - 1"
   ]
  },
  {
   "cell_type": "markdown",
   "metadata": {},
   "source": [
    "Once we know the t-statistic and degrees of freedom, we can compute the 'P-value':"
   ]
  },
  {
   "cell_type": "code",
   "execution_count": 14,
   "metadata": {},
   "outputs": [],
   "source": [
    "# Calculate the p-value (one-tailed)\n",
    "p_value = t.sf(abs(t_statistic), df)"
   ]
  },
  {
   "cell_type": "markdown",
   "metadata": {},
   "source": [
    "Finally, we can compare the 'P-value' with our significance level and conclude the significance test:"
   ]
  },
  {
   "cell_type": "code",
   "execution_count": 15,
   "metadata": {},
   "outputs": [
    {
     "name": "stdout",
     "output_type": "stream",
     "text": [
      "Since the P-value is smaller than the significance level (0.02688607162637493 < 0.05), we reject the null hypothesis because there is significant evidence to suggest that the average exam score has increased since last year.\n"
     ]
    }
   ],
   "source": [
    "# Function to conclude the one-sample t test\n",
    "def conclude_ttest1(p_val, significance_level):\n",
    "    \"\"\"\n",
    "    Checks if the P-value indicates a significant difference based on the given significance level.\n",
    "\n",
    "    Args:\n",
    "        p_val (float): The p-value calculated from the significance test.\n",
    "        significance_level (float): The significance level for the same significance test.\n",
    "\n",
    "    Returns:\n",
    "        A message indicating if there is statistical evidence to reject the test's null hypothesis.\n",
    "    \"\"\"\n",
    "    if p_val < significance_level:\n",
    "        print(\"\".join([\"Since the P-value is smaller than the significance level (\",\n",
    "                       str(p_val), \" < \", str(significance_level), \"), \", \n",
    "                       \"we reject the null hypothesis because there is significant evidence to suggest that \",\n",
    "                       \"the average exam score has increased since last year.\"]))\n",
    "    else:\n",
    "        print(\"\".join([\"Since the P-value is not smaller than the significance level (\", \n",
    "                       str(p_val), \" >= \", str(significance_level), \"), \", \n",
    "                       \"we fail to reject the null hypothesis because there is no significant evidence to suggest that \", \n",
    "                       \"the average exam score has increased.\"]))\n",
    "\n",
    "# Conclusion:\n",
    "conclude_ttest1(p_value, alpha)"
   ]
  },
  {
   "cell_type": "markdown",
   "metadata": {},
   "source": [
    "### Conclusion\n",
    "\n",
    "Since the P-value was smaller than the significance level of $α = 0.05$, we can reject the null hypothesis because there is significant evidence to conclude that the average exam scores of the students improved after Sankalp changed his teaching method.\n",
    "\n",
    "---"
   ]
  }
 ],
 "metadata": {
  "kernelspec": {
   "display_name": "Python 3",
   "language": "python",
   "name": "python3"
  },
  "language_info": {
   "codemirror_mode": {
    "name": "ipython",
    "version": 3
   },
   "file_extension": ".py",
   "mimetype": "text/x-python",
   "name": "python",
   "nbconvert_exporter": "python",
   "pygments_lexer": "ipython3",
   "version": "3.12.4"
  }
 },
 "nbformat": 4,
 "nbformat_minor": 2
}
